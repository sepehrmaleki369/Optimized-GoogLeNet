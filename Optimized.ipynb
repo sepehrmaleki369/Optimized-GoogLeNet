{
  "cells": [
    {
      "cell_type": "code",
      "source": [
        "!pip install ipython-autotime\n",
        "%load_ext autotime"
      ],
      "metadata": {
        "colab": {
          "base_uri": "https://localhost:8080/"
        },
        "id": "HsJU-7AnwIsG",
        "outputId": "ed48a93e-e261-42f8-9954-7ba531b138ac"
      },
      "execution_count": null,
      "outputs": [
        {
          "output_type": "stream",
          "name": "stdout",
          "text": [
            "Looking in indexes: https://pypi.org/simple, https://us-python.pkg.dev/colab-wheels/public/simple/\n",
            "Collecting ipython-autotime\n",
            "  Downloading ipython_autotime-0.3.1-py2.py3-none-any.whl (6.8 kB)\n",
            "Requirement already satisfied: ipython in /usr/local/lib/python3.7/dist-packages (from ipython-autotime) (7.9.0)\n",
            "Requirement already satisfied: traitlets>=4.2 in /usr/local/lib/python3.7/dist-packages (from ipython->ipython-autotime) (5.1.1)\n",
            "Requirement already satisfied: pexpect in /usr/local/lib/python3.7/dist-packages (from ipython->ipython-autotime) (4.8.0)\n",
            "Requirement already satisfied: setuptools>=18.5 in /usr/local/lib/python3.7/dist-packages (from ipython->ipython-autotime) (57.4.0)\n",
            "Requirement already satisfied: pygments in /usr/local/lib/python3.7/dist-packages (from ipython->ipython-autotime) (2.6.1)\n",
            "Requirement already satisfied: pickleshare in /usr/local/lib/python3.7/dist-packages (from ipython->ipython-autotime) (0.7.5)\n",
            "Requirement already satisfied: backcall in /usr/local/lib/python3.7/dist-packages (from ipython->ipython-autotime) (0.2.0)\n",
            "Requirement already satisfied: prompt-toolkit<2.1.0,>=2.0.0 in /usr/local/lib/python3.7/dist-packages (from ipython->ipython-autotime) (2.0.10)\n",
            "Collecting jedi>=0.10\n",
            "  Downloading jedi-0.18.1-py2.py3-none-any.whl (1.6 MB)\n",
            "\u001b[K     |████████████████████████████████| 1.6 MB 4.6 MB/s \n",
            "\u001b[?25hRequirement already satisfied: decorator in /usr/local/lib/python3.7/dist-packages (from ipython->ipython-autotime) (4.4.2)\n",
            "Requirement already satisfied: parso<0.9.0,>=0.8.0 in /usr/local/lib/python3.7/dist-packages (from jedi>=0.10->ipython->ipython-autotime) (0.8.3)\n",
            "Requirement already satisfied: six>=1.9.0 in /usr/local/lib/python3.7/dist-packages (from prompt-toolkit<2.1.0,>=2.0.0->ipython->ipython-autotime) (1.15.0)\n",
            "Requirement already satisfied: wcwidth in /usr/local/lib/python3.7/dist-packages (from prompt-toolkit<2.1.0,>=2.0.0->ipython->ipython-autotime) (0.2.5)\n",
            "Requirement already satisfied: ptyprocess>=0.5 in /usr/local/lib/python3.7/dist-packages (from pexpect->ipython->ipython-autotime) (0.7.0)\n",
            "Installing collected packages: jedi, ipython-autotime\n",
            "Successfully installed ipython-autotime-0.3.1 jedi-0.18.1\n",
            "time: 407 µs (started: 2022-09-28 01:48:07 +00:00)\n"
          ]
        }
      ]
    },
    {
      "cell_type": "code",
      "execution_count": null,
      "metadata": {
        "id": "aw_CCO7B4YAb",
        "colab": {
          "base_uri": "https://localhost:8080/"
        },
        "outputId": "a36f0ea6-0674-4b5b-b349-99aa59ebd9dc"
      },
      "outputs": [
        {
          "output_type": "stream",
          "name": "stdout",
          "text": [
            "time: 2.45 s (started: 2022-09-28 01:48:07 +00:00)\n"
          ]
        }
      ],
      "source": [
        "import numpy as np\n",
        "from matplotlib import pyplot as plt\n",
        "import torch\n",
        "import torch.nn as nn\n",
        "import torch.optim as optim\n",
        "from torch.utils.data import Dataset, DataLoader, random_split\n",
        "from torchvision import transforms, datasets\n",
        "from torchsummary import summary"
      ]
    },
    {
      "cell_type": "code",
      "execution_count": null,
      "metadata": {
        "id": "UCwx7MjD4Yu3",
        "colab": {
          "base_uri": "https://localhost:8080/"
        },
        "outputId": "5407cd67-8b93-4c27-f340-4ab666c8b14f"
      },
      "outputs": [
        {
          "output_type": "stream",
          "name": "stdout",
          "text": [
            "time: 75.3 ms (started: 2022-09-28 01:48:09 +00:00)\n"
          ]
        }
      ],
      "source": [
        "device = torch.device(\"cuda\") if torch.cuda.is_available() else torch.device(\"cpu\")\n"
      ]
    },
    {
      "cell_type": "code",
      "execution_count": null,
      "metadata": {
        "id": "be2Wu_r1jfEJ",
        "colab": {
          "base_uri": "https://localhost:8080/"
        },
        "outputId": "40092e98-4fff-4449-ffd7-8a3bc0d8e6d3"
      },
      "outputs": [
        {
          "output_type": "stream",
          "name": "stdout",
          "text": [
            "time: 1.15 ms (started: 2022-09-28 01:48:09 +00:00)\n"
          ]
        }
      ],
      "source": [
        "#Building the initial Convolutional Block\n",
        "\n",
        "class ConvBlock(nn.Module):\n",
        "  def __init__(self, in_channels, out_channels, kernel_size, stride, padding):\n",
        "    super().__init__()\n",
        "\n",
        "    self.conv = nn.Conv2d(in_channels, out_channels, kernel_size, stride, padding)\n",
        "    self.bn = nn.BatchNorm2d(out_channels)\n",
        "    self.activation = nn.ReLU()\n",
        "\n",
        "  def forward(self, x):\n",
        "    x = self.conv(x)\n",
        "    x = self.bn(x)\n",
        "    x = self.activation(x)\n",
        "    return x"
      ]
    },
    {
      "cell_type": "code",
      "execution_count": null,
      "metadata": {
        "id": "cANDjWrxyHOo",
        "colab": {
          "base_uri": "https://localhost:8080/"
        },
        "outputId": "b6ba3b2a-8c72-4785-c663-6f5b2a34f753"
      },
      "outputs": [
        {
          "output_type": "stream",
          "name": "stdout",
          "text": [
            "time: 2.53 ms (started: 2022-09-28 01:48:09 +00:00)\n"
          ]
        }
      ],
      "source": [
        "# Building Inception Block\n",
        "class Inception(nn.Module):\n",
        "  def __init__(self, in_channels, num1X1, num3X3_reduce, num3X3, num5X5_reduce, num5X5, pool_proj):\n",
        "    super().__init__()\n",
        "\n",
        "    self.block1 = nn.Sequential(\n",
        "        ConvBlock(in_channels, num1X1, kernel_size = 1, stride = 1, padding = 0)\n",
        "    )\n",
        "    self.block2 = nn.Sequential(\n",
        "        ConvBlock(in_channels, num3X3_reduce, kernel_size = 1, stride = 1, padding = 0),\n",
        "        ConvBlock(num3X3_reduce, num3X3, kernel_size = 3, stride = 1, padding = 1)\n",
        "    )\n",
        "    self.block3 = nn.Sequential(\n",
        "        ConvBlock(in_channels, num5X5_reduce, kernel_size = 1, stride = 1, padding = 0),\n",
        "        ConvBlock(num5X5_reduce, num5X5, kernel_size = 5, stride = 1, padding = 2)\n",
        "    )\n",
        "    self.block4 = nn.Sequential(\n",
        "        nn.MaxPool2d(3, stride = 1, padding = 1, ceil_mode = True),\n",
        "        ConvBlock(in_channels, pool_proj, kernel_size=1, stride = 1, padding = 0)\n",
        "    )\n",
        "\n",
        "  def forward(self, x):\n",
        "\n",
        "    block1 = self.block1(x)\n",
        "    block2 = self.block2(x)\n",
        "    block3 = self.block3(x)\n",
        "    block4 = self.block4(x)\n",
        "\n",
        "    return torch.cat([block1, block2, block3, block4], 1)\n",
        "\n"
      ]
    },
    {
      "cell_type": "code",
      "execution_count": null,
      "metadata": {
        "id": "OIgO_YhiyccU",
        "colab": {
          "base_uri": "https://localhost:8080/"
        },
        "outputId": "d8525b7c-0cf1-4f26-e352-575b7e246fd4"
      },
      "outputs": [
        {
          "output_type": "stream",
          "name": "stdout",
          "text": [
            "time: 1.66 ms (started: 2022-09-28 01:48:09 +00:00)\n"
          ]
        }
      ],
      "source": [
        "class Auxiliary(nn.Module):\n",
        "  def __init__(self, in_channels, num_classes):\n",
        "    super().__init__()\n",
        "\n",
        "    self.pool = nn.AdaptiveAvgPool2d((4, 4))\n",
        "    self.conv = nn.Conv2d(in_channels,  128, kernel_size = 1 , stride = 1 , padding = 0)\n",
        "    self.activation = nn.ReLU()\n",
        "\n",
        "\n",
        "    self.fc1 = nn.Linear(2048, 1024)\n",
        "    self.dropout = nn.Dropout(0.7)\n",
        "    self.fc2 = nn.Linear(1024, num_classes)\n",
        "\n",
        "\n",
        "  def forward(self, x):\n",
        "    out = self.pool(x)\n",
        "\n",
        "    out = self.conv(out)\n",
        "    out = self.activation(out)\n",
        "\n",
        "    out = torch.flatten(out, 1)\n",
        "\n",
        "    out = self.fc1(out)\n",
        "    out = self.activation(out)\n",
        "    out = self.dropout(out)\n",
        "\n",
        "    out = self.fc2(out)\n",
        "\n",
        "    return out\n",
        "\n"
      ]
    },
    {
      "cell_type": "code",
      "execution_count": null,
      "metadata": {
        "id": "VTTI8V34K4DH",
        "colab": {
          "base_uri": "https://localhost:8080/"
        },
        "outputId": "06fa826d-3df1-4659-9734-0902d6680337"
      },
      "outputs": [
        {
          "output_type": "stream",
          "name": "stdout",
          "text": [
            "time: 7.06 ms (started: 2022-09-28 01:48:09 +00:00)\n"
          ]
        }
      ],
      "source": [
        "class GoogleNet(nn.Module):\n",
        "  def __init__(self, num_classes = 10) -> None:\n",
        "      super().__init__()\n",
        "\n",
        "      self.conv1 = ConvBlock(3, 64, kernel_size=7, stride = 2, padding = 3)\n",
        "      self.pool1 = nn.MaxPool2d(3, stride = 2, padding = 0, ceil_mode = True)\n",
        "      self.conv2 = ConvBlock(64, 64, kernel_size = 1, stride = 1, padding = 0)\n",
        "      self.conv3 = ConvBlock(64, 192, kernel_size = 3, stride = 1, padding = 1)\n",
        "      self.pool2 = nn.MaxPool2d(3, stride = 2, padding = 0, ceil_mode = True)\n",
        "\n",
        "      #equalizing number of channels\n",
        "      self.conv4 = ConvBlock(256, 480, kernel_size = 1, stride = 1, padding = 0)\n",
        "      self.conv5 = ConvBlock(480, 512, kernel_size = 1, stride = 1, padding = 0)\n",
        "      self.conv6 = ConvBlock(512, 528, kernel_size = 1, stride = 1, padding = 0)\n",
        "      self.conv7 = ConvBlock(528, 832, kernel_size = 1, stride = 1, padding = 0)\n",
        "      self.conv8 = ConvBlock(832, 1024, kernel_size = 1, stride = 1, padding = 0)\n",
        "\n",
        "\n",
        "\n",
        "      self.inception3A = Inception(\n",
        "          in_channels = 192,\n",
        "          num1X1 = 64,\n",
        "          num3X3_reduce= 96,\n",
        "          num3X3= 128,\n",
        "          num5X5_reduce = 16,\n",
        "          num5X5 = 32,\n",
        "          pool_proj = 32\n",
        "      )\n",
        "\n",
        "\n",
        "      self.inception3B = Inception(\n",
        "          in_channels = 256,\n",
        "          num1X1 = 128,\n",
        "          num3X3_reduce= 128,\n",
        "          num3X3= 192,\n",
        "          num5X5_reduce = 32,\n",
        "          num5X5 = 96,\n",
        "          pool_proj = 64\n",
        "      )\n",
        "\n",
        "\n",
        "      self.pool3 = nn.MaxPool2d(3, stride = 2, padding = 0, ceil_mode= True)\n",
        "\n",
        "      self.inception4A = Inception(\n",
        "          in_channels = 480,\n",
        "          num1X1 = 192,\n",
        "          num3X3_reduce= 96,\n",
        "          num3X3= 208,\n",
        "          num5X5_reduce = 16,\n",
        "          num5X5 = 48,\n",
        "          pool_proj = 64\n",
        "      )\n",
        "      self.inception4B = Inception(\n",
        "            in_channels = 512,\n",
        "            num1X1 = 160,\n",
        "            num3X3_reduce = 112,\n",
        "            num3X3 = 224,\n",
        "            num5X5_reduce = 24,\n",
        "            num5X5 = 64,\n",
        "            pool_proj=64,\n",
        "        )\n",
        "      self.inception4C = Inception(\n",
        "            in_channels = 512,\n",
        "            num1X1 = 128,\n",
        "            num3X3_reduce = 128,\n",
        "            num3X3 = 256,\n",
        "            num5X5_reduce = 24,\n",
        "            num5X5 = 64,\n",
        "            pool_proj = 64,\n",
        "        )\n",
        "      self.inception4D = Inception(\n",
        "            in_channels = 512,\n",
        "            num1X1 = 112,\n",
        "            num3X3_reduce = 144,\n",
        "            num3X3 = 288,\n",
        "            num5X5_reduce = 32,\n",
        "            num5X5 = 64,\n",
        "            pool_proj = 64,\n",
        "        )\n",
        "      self.inception4E = Inception(\n",
        "            in_channels = 528,\n",
        "            num1X1 = 256,\n",
        "            num3X3_reduce = 160,\n",
        "            num3X3 = 320,\n",
        "            num5X5_reduce = 32,\n",
        "            num5X5 = 128,\n",
        "            pool_proj = 128,\n",
        "        )\n",
        "\n",
        "      self.pool4 = nn.MaxPool2d(3, stride = 2, padding = 0, ceil_mode = True)\n",
        "\n",
        "      self.inception5A = Inception(\n",
        "            in_channels=832,\n",
        "            num1X1 = 256,\n",
        "            num3X3_reduce = 160,\n",
        "            num3X3 = 320,\n",
        "            num5X5_reduce = 32,\n",
        "            num5X5 = 128,\n",
        "            pool_proj = 128,\n",
        "        )\n",
        "      self.inception5B = Inception(\n",
        "            in_channels = 832,\n",
        "            num1X1 = 384,\n",
        "            num3X3_reduce = 192,\n",
        "            num3X3 = 384,\n",
        "            num5X5_reduce = 48,\n",
        "            num5X5 = 128,\n",
        "            pool_proj = 128,\n",
        "        )\n",
        "\n",
        "      self.pool5 = nn.AdaptiveAvgPool2d((1, 1))\n",
        "\n",
        "      self.dropout = nn.Dropout(0.4)\n",
        "      self.fc = nn.Linear(1024, num_classes)\n",
        "\n",
        "      self.aux4A = Auxiliary(512, num_classes)\n",
        "      self.aux4D = Auxiliary(528, num_classes)\n",
        "\n",
        "\n",
        "\n",
        "\n",
        "  def forward(self, x):\n",
        "\n",
        "      out = self.conv1(x)\n",
        "      out = self.pool1(out)\n",
        "      out = self.conv2(out)\n",
        "      out = self.conv3(out)\n",
        "      out = self.pool2(out)\n",
        "\n",
        "      out = self.inception3A(out)\n",
        "      u = self.conv4(out)\n",
        "      out = self.inception3B(out) + u\n",
        "\n",
        "      out = self.pool3(out)\n",
        "\n",
        "      u = self.conv5(out)\n",
        "      out = self.inception4A(out) + u\n",
        "\n",
        "      aux1 = self.aux4A(out)\n",
        "\n",
        "      out = self.inception4B(out) + out\n",
        "      out = self.inception4C(out) + out\n",
        "      u = self.conv6(out)\n",
        "      out = self.inception4D(out) + u\n",
        "\n",
        "      aux2 = self.aux4D(out)\n",
        "      u = self.conv7(out)\n",
        "      out = self.inception4E(out) + u\n",
        "\n",
        "      out = self.pool4(out)\n",
        "\n",
        "      out = self.inception5A(out) + out\n",
        "      u = self.conv8(out)\n",
        "      out = self.inception5B(out) + u\n",
        "\n",
        "      out = self.pool5(out)\n",
        "\n",
        "      out = torch.flatten(out, 1)\n",
        "\n",
        "      out = self.dropout(out)\n",
        "      out = (self.fc(out) + aux1 + aux2 ) / 3\n",
        "\n",
        "      return out, aux1, aux2\n"
      ]
    },
    {
      "cell_type": "code",
      "execution_count": null,
      "metadata": {
        "colab": {
          "base_uri": "https://localhost:8080/"
        },
        "id": "J9Ymrxb5g-qS",
        "outputId": "d29df4a2-df01-4e60-94e2-cd6c57fcf875"
      },
      "outputs": [
        {
          "output_type": "stream",
          "name": "stdout",
          "text": [
            "----------------------------------------------------------------\n",
            "        Layer (type)               Output Shape         Param #\n",
            "================================================================\n",
            "            Conv2d-1           [-1, 64, 48, 48]           9,472\n",
            "       BatchNorm2d-2           [-1, 64, 48, 48]             128\n",
            "              ReLU-3           [-1, 64, 48, 48]               0\n",
            "         ConvBlock-4           [-1, 64, 48, 48]               0\n",
            "         MaxPool2d-5           [-1, 64, 24, 24]               0\n",
            "            Conv2d-6           [-1, 64, 24, 24]           4,160\n",
            "       BatchNorm2d-7           [-1, 64, 24, 24]             128\n",
            "              ReLU-8           [-1, 64, 24, 24]               0\n",
            "         ConvBlock-9           [-1, 64, 24, 24]               0\n",
            "           Conv2d-10          [-1, 192, 24, 24]         110,784\n",
            "      BatchNorm2d-11          [-1, 192, 24, 24]             384\n",
            "             ReLU-12          [-1, 192, 24, 24]               0\n",
            "        ConvBlock-13          [-1, 192, 24, 24]               0\n",
            "        MaxPool2d-14          [-1, 192, 12, 12]               0\n",
            "           Conv2d-15           [-1, 64, 12, 12]          12,352\n",
            "      BatchNorm2d-16           [-1, 64, 12, 12]             128\n",
            "             ReLU-17           [-1, 64, 12, 12]               0\n",
            "        ConvBlock-18           [-1, 64, 12, 12]               0\n",
            "           Conv2d-19           [-1, 96, 12, 12]          18,528\n",
            "      BatchNorm2d-20           [-1, 96, 12, 12]             192\n",
            "             ReLU-21           [-1, 96, 12, 12]               0\n",
            "        ConvBlock-22           [-1, 96, 12, 12]               0\n",
            "           Conv2d-23          [-1, 128, 12, 12]         110,720\n",
            "      BatchNorm2d-24          [-1, 128, 12, 12]             256\n",
            "             ReLU-25          [-1, 128, 12, 12]               0\n",
            "        ConvBlock-26          [-1, 128, 12, 12]               0\n",
            "           Conv2d-27           [-1, 16, 12, 12]           3,088\n",
            "      BatchNorm2d-28           [-1, 16, 12, 12]              32\n",
            "             ReLU-29           [-1, 16, 12, 12]               0\n",
            "        ConvBlock-30           [-1, 16, 12, 12]               0\n",
            "           Conv2d-31           [-1, 32, 12, 12]          12,832\n",
            "      BatchNorm2d-32           [-1, 32, 12, 12]              64\n",
            "             ReLU-33           [-1, 32, 12, 12]               0\n",
            "        ConvBlock-34           [-1, 32, 12, 12]               0\n",
            "        MaxPool2d-35          [-1, 192, 12, 12]               0\n",
            "           Conv2d-36           [-1, 32, 12, 12]           6,176\n",
            "      BatchNorm2d-37           [-1, 32, 12, 12]              64\n",
            "             ReLU-38           [-1, 32, 12, 12]               0\n",
            "        ConvBlock-39           [-1, 32, 12, 12]               0\n",
            "        Inception-40          [-1, 256, 12, 12]               0\n",
            "           Conv2d-41          [-1, 480, 12, 12]         123,360\n",
            "      BatchNorm2d-42          [-1, 480, 12, 12]             960\n",
            "             ReLU-43          [-1, 480, 12, 12]               0\n",
            "        ConvBlock-44          [-1, 480, 12, 12]               0\n",
            "           Conv2d-45          [-1, 128, 12, 12]          32,896\n",
            "      BatchNorm2d-46          [-1, 128, 12, 12]             256\n",
            "             ReLU-47          [-1, 128, 12, 12]               0\n",
            "        ConvBlock-48          [-1, 128, 12, 12]               0\n",
            "           Conv2d-49          [-1, 128, 12, 12]          32,896\n",
            "      BatchNorm2d-50          [-1, 128, 12, 12]             256\n",
            "             ReLU-51          [-1, 128, 12, 12]               0\n",
            "        ConvBlock-52          [-1, 128, 12, 12]               0\n",
            "           Conv2d-53          [-1, 192, 12, 12]         221,376\n",
            "      BatchNorm2d-54          [-1, 192, 12, 12]             384\n",
            "             ReLU-55          [-1, 192, 12, 12]               0\n",
            "        ConvBlock-56          [-1, 192, 12, 12]               0\n",
            "           Conv2d-57           [-1, 32, 12, 12]           8,224\n",
            "      BatchNorm2d-58           [-1, 32, 12, 12]              64\n",
            "             ReLU-59           [-1, 32, 12, 12]               0\n",
            "        ConvBlock-60           [-1, 32, 12, 12]               0\n",
            "           Conv2d-61           [-1, 96, 12, 12]          76,896\n",
            "      BatchNorm2d-62           [-1, 96, 12, 12]             192\n",
            "             ReLU-63           [-1, 96, 12, 12]               0\n",
            "        ConvBlock-64           [-1, 96, 12, 12]               0\n",
            "        MaxPool2d-65          [-1, 256, 12, 12]               0\n",
            "           Conv2d-66           [-1, 64, 12, 12]          16,448\n",
            "      BatchNorm2d-67           [-1, 64, 12, 12]             128\n",
            "             ReLU-68           [-1, 64, 12, 12]               0\n",
            "        ConvBlock-69           [-1, 64, 12, 12]               0\n",
            "        Inception-70          [-1, 480, 12, 12]               0\n",
            "        MaxPool2d-71            [-1, 480, 6, 6]               0\n",
            "           Conv2d-72            [-1, 512, 6, 6]         246,272\n",
            "      BatchNorm2d-73            [-1, 512, 6, 6]           1,024\n",
            "             ReLU-74            [-1, 512, 6, 6]               0\n",
            "        ConvBlock-75            [-1, 512, 6, 6]               0\n",
            "           Conv2d-76            [-1, 192, 6, 6]          92,352\n",
            "      BatchNorm2d-77            [-1, 192, 6, 6]             384\n",
            "             ReLU-78            [-1, 192, 6, 6]               0\n",
            "        ConvBlock-79            [-1, 192, 6, 6]               0\n",
            "           Conv2d-80             [-1, 96, 6, 6]          46,176\n",
            "      BatchNorm2d-81             [-1, 96, 6, 6]             192\n",
            "             ReLU-82             [-1, 96, 6, 6]               0\n",
            "        ConvBlock-83             [-1, 96, 6, 6]               0\n",
            "           Conv2d-84            [-1, 208, 6, 6]         179,920\n",
            "      BatchNorm2d-85            [-1, 208, 6, 6]             416\n",
            "             ReLU-86            [-1, 208, 6, 6]               0\n",
            "        ConvBlock-87            [-1, 208, 6, 6]               0\n",
            "           Conv2d-88             [-1, 16, 6, 6]           7,696\n",
            "      BatchNorm2d-89             [-1, 16, 6, 6]              32\n",
            "             ReLU-90             [-1, 16, 6, 6]               0\n",
            "        ConvBlock-91             [-1, 16, 6, 6]               0\n",
            "           Conv2d-92             [-1, 48, 6, 6]          19,248\n",
            "      BatchNorm2d-93             [-1, 48, 6, 6]              96\n",
            "             ReLU-94             [-1, 48, 6, 6]               0\n",
            "        ConvBlock-95             [-1, 48, 6, 6]               0\n",
            "        MaxPool2d-96            [-1, 480, 6, 6]               0\n",
            "           Conv2d-97             [-1, 64, 6, 6]          30,784\n",
            "      BatchNorm2d-98             [-1, 64, 6, 6]             128\n",
            "             ReLU-99             [-1, 64, 6, 6]               0\n",
            "       ConvBlock-100             [-1, 64, 6, 6]               0\n",
            "       Inception-101            [-1, 512, 6, 6]               0\n",
            "AdaptiveAvgPool2d-102            [-1, 512, 4, 4]               0\n",
            "          Conv2d-103            [-1, 128, 4, 4]          65,664\n",
            "            ReLU-104            [-1, 128, 4, 4]               0\n",
            "          Linear-105                 [-1, 1024]       2,098,176\n",
            "            ReLU-106                 [-1, 1024]               0\n",
            "         Dropout-107                 [-1, 1024]               0\n",
            "          Linear-108                   [-1, 10]          10,250\n",
            "       Auxiliary-109                   [-1, 10]               0\n",
            "          Conv2d-110            [-1, 160, 6, 6]          82,080\n",
            "     BatchNorm2d-111            [-1, 160, 6, 6]             320\n",
            "            ReLU-112            [-1, 160, 6, 6]               0\n",
            "       ConvBlock-113            [-1, 160, 6, 6]               0\n",
            "          Conv2d-114            [-1, 112, 6, 6]          57,456\n",
            "     BatchNorm2d-115            [-1, 112, 6, 6]             224\n",
            "            ReLU-116            [-1, 112, 6, 6]               0\n",
            "       ConvBlock-117            [-1, 112, 6, 6]               0\n",
            "          Conv2d-118            [-1, 224, 6, 6]         226,016\n",
            "     BatchNorm2d-119            [-1, 224, 6, 6]             448\n",
            "            ReLU-120            [-1, 224, 6, 6]               0\n",
            "       ConvBlock-121            [-1, 224, 6, 6]               0\n",
            "          Conv2d-122             [-1, 24, 6, 6]          12,312\n",
            "     BatchNorm2d-123             [-1, 24, 6, 6]              48\n",
            "            ReLU-124             [-1, 24, 6, 6]               0\n",
            "       ConvBlock-125             [-1, 24, 6, 6]               0\n",
            "          Conv2d-126             [-1, 64, 6, 6]          38,464\n",
            "     BatchNorm2d-127             [-1, 64, 6, 6]             128\n",
            "            ReLU-128             [-1, 64, 6, 6]               0\n",
            "       ConvBlock-129             [-1, 64, 6, 6]               0\n",
            "       MaxPool2d-130            [-1, 512, 6, 6]               0\n",
            "          Conv2d-131             [-1, 64, 6, 6]          32,832\n",
            "     BatchNorm2d-132             [-1, 64, 6, 6]             128\n",
            "            ReLU-133             [-1, 64, 6, 6]               0\n",
            "       ConvBlock-134             [-1, 64, 6, 6]               0\n",
            "       Inception-135            [-1, 512, 6, 6]               0\n",
            "          Conv2d-136            [-1, 128, 6, 6]          65,664\n",
            "     BatchNorm2d-137            [-1, 128, 6, 6]             256\n",
            "            ReLU-138            [-1, 128, 6, 6]               0\n",
            "       ConvBlock-139            [-1, 128, 6, 6]               0\n",
            "          Conv2d-140            [-1, 128, 6, 6]          65,664\n",
            "     BatchNorm2d-141            [-1, 128, 6, 6]             256\n",
            "            ReLU-142            [-1, 128, 6, 6]               0\n",
            "       ConvBlock-143            [-1, 128, 6, 6]               0\n",
            "          Conv2d-144            [-1, 256, 6, 6]         295,168\n",
            "     BatchNorm2d-145            [-1, 256, 6, 6]             512\n",
            "            ReLU-146            [-1, 256, 6, 6]               0\n",
            "       ConvBlock-147            [-1, 256, 6, 6]               0\n",
            "          Conv2d-148             [-1, 24, 6, 6]          12,312\n",
            "     BatchNorm2d-149             [-1, 24, 6, 6]              48\n",
            "            ReLU-150             [-1, 24, 6, 6]               0\n",
            "       ConvBlock-151             [-1, 24, 6, 6]               0\n",
            "          Conv2d-152             [-1, 64, 6, 6]          38,464\n",
            "     BatchNorm2d-153             [-1, 64, 6, 6]             128\n",
            "            ReLU-154             [-1, 64, 6, 6]               0\n",
            "       ConvBlock-155             [-1, 64, 6, 6]               0\n",
            "       MaxPool2d-156            [-1, 512, 6, 6]               0\n",
            "          Conv2d-157             [-1, 64, 6, 6]          32,832\n",
            "     BatchNorm2d-158             [-1, 64, 6, 6]             128\n",
            "            ReLU-159             [-1, 64, 6, 6]               0\n",
            "       ConvBlock-160             [-1, 64, 6, 6]               0\n",
            "       Inception-161            [-1, 512, 6, 6]               0\n",
            "          Conv2d-162            [-1, 528, 6, 6]         270,864\n",
            "     BatchNorm2d-163            [-1, 528, 6, 6]           1,056\n",
            "            ReLU-164            [-1, 528, 6, 6]               0\n",
            "       ConvBlock-165            [-1, 528, 6, 6]               0\n",
            "          Conv2d-166            [-1, 112, 6, 6]          57,456\n",
            "     BatchNorm2d-167            [-1, 112, 6, 6]             224\n",
            "            ReLU-168            [-1, 112, 6, 6]               0\n",
            "       ConvBlock-169            [-1, 112, 6, 6]               0\n",
            "          Conv2d-170            [-1, 144, 6, 6]          73,872\n",
            "     BatchNorm2d-171            [-1, 144, 6, 6]             288\n",
            "            ReLU-172            [-1, 144, 6, 6]               0\n",
            "       ConvBlock-173            [-1, 144, 6, 6]               0\n",
            "          Conv2d-174            [-1, 288, 6, 6]         373,536\n",
            "     BatchNorm2d-175            [-1, 288, 6, 6]             576\n",
            "            ReLU-176            [-1, 288, 6, 6]               0\n",
            "       ConvBlock-177            [-1, 288, 6, 6]               0\n",
            "          Conv2d-178             [-1, 32, 6, 6]          16,416\n",
            "     BatchNorm2d-179             [-1, 32, 6, 6]              64\n",
            "            ReLU-180             [-1, 32, 6, 6]               0\n",
            "       ConvBlock-181             [-1, 32, 6, 6]               0\n",
            "          Conv2d-182             [-1, 64, 6, 6]          51,264\n",
            "     BatchNorm2d-183             [-1, 64, 6, 6]             128\n",
            "            ReLU-184             [-1, 64, 6, 6]               0\n",
            "       ConvBlock-185             [-1, 64, 6, 6]               0\n",
            "       MaxPool2d-186            [-1, 512, 6, 6]               0\n",
            "          Conv2d-187             [-1, 64, 6, 6]          32,832\n",
            "     BatchNorm2d-188             [-1, 64, 6, 6]             128\n",
            "            ReLU-189             [-1, 64, 6, 6]               0\n",
            "       ConvBlock-190             [-1, 64, 6, 6]               0\n",
            "       Inception-191            [-1, 528, 6, 6]               0\n",
            "AdaptiveAvgPool2d-192            [-1, 528, 4, 4]               0\n",
            "          Conv2d-193            [-1, 128, 4, 4]          67,712\n",
            "            ReLU-194            [-1, 128, 4, 4]               0\n",
            "          Linear-195                 [-1, 1024]       2,098,176\n",
            "            ReLU-196                 [-1, 1024]               0\n",
            "         Dropout-197                 [-1, 1024]               0\n",
            "          Linear-198                   [-1, 10]          10,250\n",
            "       Auxiliary-199                   [-1, 10]               0\n",
            "          Conv2d-200            [-1, 832, 6, 6]         440,128\n",
            "     BatchNorm2d-201            [-1, 832, 6, 6]           1,664\n",
            "            ReLU-202            [-1, 832, 6, 6]               0\n",
            "       ConvBlock-203            [-1, 832, 6, 6]               0\n",
            "          Conv2d-204            [-1, 256, 6, 6]         135,424\n",
            "     BatchNorm2d-205            [-1, 256, 6, 6]             512\n",
            "            ReLU-206            [-1, 256, 6, 6]               0\n",
            "       ConvBlock-207            [-1, 256, 6, 6]               0\n",
            "          Conv2d-208            [-1, 160, 6, 6]          84,640\n",
            "     BatchNorm2d-209            [-1, 160, 6, 6]             320\n",
            "            ReLU-210            [-1, 160, 6, 6]               0\n",
            "       ConvBlock-211            [-1, 160, 6, 6]               0\n",
            "          Conv2d-212            [-1, 320, 6, 6]         461,120\n",
            "     BatchNorm2d-213            [-1, 320, 6, 6]             640\n",
            "            ReLU-214            [-1, 320, 6, 6]               0\n",
            "       ConvBlock-215            [-1, 320, 6, 6]               0\n",
            "          Conv2d-216             [-1, 32, 6, 6]          16,928\n",
            "     BatchNorm2d-217             [-1, 32, 6, 6]              64\n",
            "            ReLU-218             [-1, 32, 6, 6]               0\n",
            "       ConvBlock-219             [-1, 32, 6, 6]               0\n",
            "          Conv2d-220            [-1, 128, 6, 6]         102,528\n",
            "     BatchNorm2d-221            [-1, 128, 6, 6]             256\n",
            "            ReLU-222            [-1, 128, 6, 6]               0\n",
            "       ConvBlock-223            [-1, 128, 6, 6]               0\n",
            "       MaxPool2d-224            [-1, 528, 6, 6]               0\n",
            "          Conv2d-225            [-1, 128, 6, 6]          67,712\n",
            "     BatchNorm2d-226            [-1, 128, 6, 6]             256\n",
            "            ReLU-227            [-1, 128, 6, 6]               0\n",
            "       ConvBlock-228            [-1, 128, 6, 6]               0\n",
            "       Inception-229            [-1, 832, 6, 6]               0\n",
            "       MaxPool2d-230            [-1, 832, 3, 3]               0\n",
            "          Conv2d-231            [-1, 256, 3, 3]         213,248\n",
            "     BatchNorm2d-232            [-1, 256, 3, 3]             512\n",
            "            ReLU-233            [-1, 256, 3, 3]               0\n",
            "       ConvBlock-234            [-1, 256, 3, 3]               0\n",
            "          Conv2d-235            [-1, 160, 3, 3]         133,280\n",
            "     BatchNorm2d-236            [-1, 160, 3, 3]             320\n",
            "            ReLU-237            [-1, 160, 3, 3]               0\n",
            "       ConvBlock-238            [-1, 160, 3, 3]               0\n",
            "          Conv2d-239            [-1, 320, 3, 3]         461,120\n",
            "     BatchNorm2d-240            [-1, 320, 3, 3]             640\n",
            "            ReLU-241            [-1, 320, 3, 3]               0\n",
            "       ConvBlock-242            [-1, 320, 3, 3]               0\n",
            "          Conv2d-243             [-1, 32, 3, 3]          26,656\n",
            "     BatchNorm2d-244             [-1, 32, 3, 3]              64\n",
            "            ReLU-245             [-1, 32, 3, 3]               0\n",
            "       ConvBlock-246             [-1, 32, 3, 3]               0\n",
            "          Conv2d-247            [-1, 128, 3, 3]         102,528\n",
            "     BatchNorm2d-248            [-1, 128, 3, 3]             256\n",
            "            ReLU-249            [-1, 128, 3, 3]               0\n",
            "       ConvBlock-250            [-1, 128, 3, 3]               0\n",
            "       MaxPool2d-251            [-1, 832, 3, 3]               0\n",
            "          Conv2d-252            [-1, 128, 3, 3]         106,624\n",
            "     BatchNorm2d-253            [-1, 128, 3, 3]             256\n",
            "            ReLU-254            [-1, 128, 3, 3]               0\n",
            "       ConvBlock-255            [-1, 128, 3, 3]               0\n",
            "       Inception-256            [-1, 832, 3, 3]               0\n",
            "          Conv2d-257           [-1, 1024, 3, 3]         852,992\n",
            "     BatchNorm2d-258           [-1, 1024, 3, 3]           2,048\n",
            "            ReLU-259           [-1, 1024, 3, 3]               0\n",
            "       ConvBlock-260           [-1, 1024, 3, 3]               0\n",
            "          Conv2d-261            [-1, 384, 3, 3]         319,872\n",
            "     BatchNorm2d-262            [-1, 384, 3, 3]             768\n",
            "            ReLU-263            [-1, 384, 3, 3]               0\n",
            "       ConvBlock-264            [-1, 384, 3, 3]               0\n",
            "          Conv2d-265            [-1, 192, 3, 3]         159,936\n",
            "     BatchNorm2d-266            [-1, 192, 3, 3]             384\n",
            "            ReLU-267            [-1, 192, 3, 3]               0\n",
            "       ConvBlock-268            [-1, 192, 3, 3]               0\n",
            "          Conv2d-269            [-1, 384, 3, 3]         663,936\n",
            "     BatchNorm2d-270            [-1, 384, 3, 3]             768\n",
            "            ReLU-271            [-1, 384, 3, 3]               0\n",
            "       ConvBlock-272            [-1, 384, 3, 3]               0\n",
            "          Conv2d-273             [-1, 48, 3, 3]          39,984\n",
            "     BatchNorm2d-274             [-1, 48, 3, 3]              96\n",
            "            ReLU-275             [-1, 48, 3, 3]               0\n",
            "       ConvBlock-276             [-1, 48, 3, 3]               0\n",
            "          Conv2d-277            [-1, 128, 3, 3]         153,728\n",
            "     BatchNorm2d-278            [-1, 128, 3, 3]             256\n",
            "            ReLU-279            [-1, 128, 3, 3]               0\n",
            "       ConvBlock-280            [-1, 128, 3, 3]               0\n",
            "       MaxPool2d-281            [-1, 832, 3, 3]               0\n",
            "          Conv2d-282            [-1, 128, 3, 3]         106,624\n",
            "     BatchNorm2d-283            [-1, 128, 3, 3]             256\n",
            "            ReLU-284            [-1, 128, 3, 3]               0\n",
            "       ConvBlock-285            [-1, 128, 3, 3]               0\n",
            "       Inception-286           [-1, 1024, 3, 3]               0\n",
            "AdaptiveAvgPool2d-287           [-1, 1024, 1, 1]               0\n",
            "         Dropout-288                 [-1, 1024]               0\n",
            "          Linear-289                   [-1, 10]          10,250\n",
            "================================================================\n",
            "Total params: 12,288,958\n",
            "Trainable params: 12,288,958\n",
            "Non-trainable params: 0\n",
            "----------------------------------------------------------------\n",
            "Input size (MB): 0.11\n",
            "Forward/backward pass size (MB): 26.50\n",
            "Params size (MB): 46.88\n",
            "Estimated Total Size (MB): 73.48\n",
            "----------------------------------------------------------------\n",
            "time: 13.1 s (started: 2022-09-28 01:48:09 +00:00)\n"
          ]
        }
      ],
      "source": [
        "model = GoogleNet()\n",
        "model.to(device)\n",
        "summary(model,(3, 96, 96))"
      ]
    },
    {
      "cell_type": "code",
      "execution_count": null,
      "metadata": {
        "id": "1iq2egaKcC7p",
        "colab": {
          "base_uri": "https://localhost:8080/"
        },
        "outputId": "4a97dbe3-ed23-4529-d98c-637cfae5fc4f"
      },
      "outputs": [
        {
          "output_type": "stream",
          "name": "stdout",
          "text": [
            "time: 112 ms (started: 2022-09-28 01:48:22 +00:00)\n"
          ]
        }
      ],
      "source": [
        "def my_plot(val_history, train_history , title, y_label):\n",
        "    plt.figure(figsize=(10,5))\n",
        "    plt.title(title)\n",
        "    plt.plot(val_history,label=\"val\")\n",
        "    plt.plot(train_history,label=\"train\")\n",
        "\n",
        "    plt.xlabel(\"iterations\")\n",
        "    plt.ylabel(y_label)\n",
        "\n",
        "    plt.legend()\n",
        "    plt.show()\n",
        "\n",
        "\n",
        "def train_model(model, train_loader, val_loader, criterion, optimizer):\n",
        "    EPOCHS = 10\n",
        "    train_samples_num = 45000\n",
        "    val_samples_num = 5000\n",
        "\n",
        "    train_epoch_loss_history, val_epoch_loss_history = [], []\n",
        "    train_epoch_acc_hist, val_epoch_acc_hist = [], []\n",
        "\n",
        "    for epoch in range(EPOCHS):\n",
        "\n",
        "        train_running_loss = 0\n",
        "        correct_train = 0\n",
        "\n",
        "        model.train().cuda()\n",
        "\n",
        "        for inputs, labels in train_loader:\n",
        "            inputs, labels = inputs.to(device), labels.to(device)\n",
        "\n",
        "            \"\"\" for every mini-batch during the training phase, we\n",
        "            typically want to explicitly set the gradients\n",
        "            to zero before starting to do backpropragation \"\"\"\n",
        "            optimizer.zero_grad()\n",
        "\n",
        "            # Start the forward pass\n",
        "            prediction0, aux_pred_1, aux_pred_2 = model(inputs)\n",
        "\n",
        "            # Compute the loss.\n",
        "            real_loss = criterion(prediction0, labels)\n",
        "            aux_loss_1 = criterion(aux_pred_1, labels)\n",
        "            aux_loss_2 = criterion(aux_pred_2, labels)\n",
        "\n",
        "            loss = real_loss + 0.3 * aux_loss_1 + 0.3 * aux_loss_2\n",
        "\n",
        "            # do backpropagation and update weights with step()# Backward pass.\n",
        "            loss.backward()\n",
        "            optimizer.step()\n",
        "\n",
        "            # Update the running corrects\n",
        "            _, predicted = torch.max(prediction0.data, 1)\n",
        "\n",
        "            correct_train += (predicted == labels).float().sum().item()\n",
        "\n",
        "            \"\"\" Compute batch loss\n",
        "            multiply each average batch loss with batch-length.\n",
        "            The batch-length is inputs.size(0) which gives the number total images in each batch.\n",
        "            Essentially I am un-averaging the previously calculated Loss \"\"\"\n",
        "            train_running_loss += loss.data.item() * inputs.shape[0]\n",
        "\n",
        "        train_epoch_loss = train_running_loss / train_samples_num\n",
        "        train_epoch_loss_history.append(train_epoch_loss)\n",
        "        train_acc = correct_train / train_samples_num\n",
        "        train_epoch_acc_hist.append(train_acc)\n",
        "\n",
        "        val_loss = 0\n",
        "        correct_val = 0\n",
        "\n",
        "        model.eval().cuda()\n",
        "\n",
        "        with torch.no_grad():\n",
        "            for inputs, labels in val_loader:\n",
        "                inputs, labels = inputs.to(device), labels.to(device)\n",
        "\n",
        "                # Forward pass.\n",
        "                prediction0, aux_pred_1, aux_pred_2 = model(inputs)\n",
        "\n",
        "                # Compute the loss.\n",
        "                real_loss = criterion(prediction0, labels)\n",
        "                aux_loss_1 = criterion(aux_pred_1, labels)\n",
        "                aux_loss_2 = criterion(aux_pred_2, labels)\n",
        "\n",
        "                loss = real_loss + 0.3 * aux_loss_1 + 0.3 * aux_loss_2\n",
        "\n",
        "                # Compute training accuracy.\n",
        "                _, predicted = torch.max(prediction0.data, 1)\n",
        "                correct_val += (predicted == labels).float().sum().item()\n",
        "\n",
        "                # Compute batch loss.\n",
        "                val_loss += loss.data.item() * inputs.shape[0]\n",
        "\n",
        "            val_loss /= val_samples_num\n",
        "            val_epoch_loss_history.append(val_loss)\n",
        "            val_acc = correct_val / val_samples_num\n",
        "            val_epoch_acc_hist.append(val_acc)\n",
        "\n",
        "\n",
        "        info = \"[For Epoch {}/{}]: train-loss = {:0.5f} | train-acc = {:0.3f} | val-loss = {:0.5f} | val-acc = {:0.3f}\"\n",
        "\n",
        "        print(\n",
        "            info.format(\n",
        "                epoch + 1, EPOCHS, train_epoch_loss, train_acc, val_loss, val_acc\n",
        "            )\n",
        "        )\n",
        "\n",
        "        torch.save(\n",
        "            model.state_dict(), \"/content/sample_data/checkpoint{}\".format(epoch + 1)\n",
        "        )\n",
        "\n",
        "    torch.save(model.state_dict(), \"/content/sample_data/optimized_model\")\n",
        "\n",
        "    #Plotting\n",
        "\n",
        "    my_plot(val_epoch_loss_history, train_epoch_loss_history , \"Training and Validation Loss\", \"Loss\")\n",
        "    my_plot(val_epoch_acc_hist, train_epoch_acc_hist, \"Training and Validation Accuracy\", \"Acc\" )\n",
        "\n",
        "    return train_epoch_loss_history, val_epoch_loss_history"
      ]
    },
    {
      "cell_type": "code",
      "execution_count": null,
      "metadata": {
        "id": "TETZ-WDx60oO",
        "colab": {
          "base_uri": "https://localhost:8080/"
        },
        "outputId": "c882eee9-12dc-4c6a-d511-1b76c59b39bc"
      },
      "outputs": [
        {
          "output_type": "stream",
          "name": "stdout",
          "text": [
            "time: 3.94 ms (started: 2022-09-28 01:48:23 +00:00)\n"
          ]
        }
      ],
      "source": [
        "def dataloader_cifar():\n",
        "    transform_train = transforms.Compose([\n",
        "    transforms.RandomCrop(32, padding=4),\n",
        "    transforms.RandomHorizontalFlip(),\n",
        "    transforms.ToTensor(),\n",
        "    transforms.Normalize((0.4914, 0.4822, 0.4465), (0.2023, 0.1994, 0.2010)),\n",
        "      ])\n",
        "\n",
        "    transform_test = transforms.Compose([\n",
        "    transforms.ToTensor(),\n",
        "    transforms.Normalize((0.4914, 0.4822, 0.4465), (0.2023, 0.1994, 0.2010)),\n",
        "      ])\n",
        "\n",
        "    # Input Data in Google Drive\n",
        "    train_dataset = datasets.CIFAR10('/content/drive/MyDrive/All_Datasets/CIFAR10', train=True, download=True, transform=transform_train)\n",
        "    test_dataset = datasets.CIFAR10('/content/drive/MyDrive/All_Datasets/CIFAR10', train=False, download=True, transform=transform_test)\n",
        "\n",
        "    # Split dataset into training set and validation set.\n",
        "    train_dataset, val_dataset = random_split(train_dataset, (45000, 5000))\n",
        "\n",
        "    print(\"Image shape of a random sample image : {}\".format(train_dataset[0][0].numpy().shape), end = '\\n\\n')\n",
        "\n",
        "    print(\"Training Set:   {} images\".format(len(train_dataset)))\n",
        "    print(\"Validation Set:   {} images\".format(len(val_dataset)))\n",
        "    print(\"Test Set:       {} images\".format(len(test_dataset)))\n",
        "\n",
        "    BATCH_SIZE = 128\n",
        "\n",
        "    # Generate dataloader\n",
        "    train_loader = DataLoader(train_dataset, batch_size=BATCH_SIZE, shuffle=True)\n",
        "    val_loader = DataLoader(val_dataset, batch_size=BATCH_SIZE, shuffle=True)\n",
        "    test_loader = DataLoader(test_dataset, batch_size=10000, shuffle=False)\n",
        "\n",
        "    return train_loader, val_loader, test_loader\n"
      ]
    },
    {
      "cell_type": "code",
      "execution_count": null,
      "metadata": {
        "colab": {
          "base_uri": "https://localhost:8080/",
          "height": 205,
          "referenced_widgets": [
            "3644ed4419c84215abf9e747833d0032",
            "15a45c675fbc481bba3a1863405170cc",
            "69932cac3f6d44aeaafe4419ff50982e",
            "37d09ae37c484545a37d7d3d8d04c593",
            "e7335a9a450c486f897c7c2ee126c9ef",
            "6588d98a8dfa40cd983700ac29634dda",
            "d72853da38184bcdb265ebd536726faf",
            "6e0b5215ea8d417398ed8b8a2c0c5d7e",
            "aa8764b1251c47ab81676cfbb53d7619",
            "ab1b44d20cc145c488351fe0b58e8dbc",
            "05d8333e1a334062b5239874d486ce1a"
          ]
        },
        "id": "Y8HDruYFkIj-",
        "outputId": "5fec1614-3a02-4a3f-bf20-49b0e655e4d4"
      },
      "outputs": [
        {
          "output_type": "stream",
          "name": "stdout",
          "text": [
            "Downloading https://www.cs.toronto.edu/~kriz/cifar-10-python.tar.gz to /content/drive/MyDrive/All_Datasets/CIFAR10/cifar-10-python.tar.gz\n"
          ]
        },
        {
          "output_type": "display_data",
          "data": {
            "text/plain": [
              "  0%|          | 0/170498071 [00:00<?, ?it/s]"
            ],
            "application/vnd.jupyter.widget-view+json": {
              "version_major": 2,
              "version_minor": 0,
              "model_id": "3644ed4419c84215abf9e747833d0032"
            }
          },
          "metadata": {}
        },
        {
          "output_type": "stream",
          "name": "stdout",
          "text": [
            "Extracting /content/drive/MyDrive/All_Datasets/CIFAR10/cifar-10-python.tar.gz to /content/drive/MyDrive/All_Datasets/CIFAR10\n",
            "Files already downloaded and verified\n",
            "Image shape of a random sample image : (3, 32, 32)\n",
            "\n",
            "Training Set:   45000 images\n",
            "Validation Set:   5000 images\n",
            "Test Set:       10000 images\n",
            "time: 6.75 s (started: 2022-09-28 01:48:23 +00:00)\n"
          ]
        }
      ],
      "source": [
        "train_loader, val_loader, test_loader =  dataloader_cifar()\n"
      ]
    },
    {
      "cell_type": "code",
      "execution_count": null,
      "metadata": {
        "id": "VLjmNEUGkKqi",
        "colab": {
          "base_uri": "https://localhost:8080/"
        },
        "outputId": "11894817-812f-4235-8257-51f6f3164bb2"
      },
      "outputs": [
        {
          "output_type": "stream",
          "name": "stdout",
          "text": [
            "time: 1.96 ms (started: 2022-09-28 01:48:29 +00:00)\n"
          ]
        }
      ],
      "source": [
        "criterion = nn.CrossEntropyLoss()\n",
        "optimizer = optim.Adam(model.parameters(), lr=0.001)"
      ]
    },
    {
      "cell_type": "code",
      "execution_count": null,
      "metadata": {
        "colab": {
          "base_uri": "https://localhost:8080/",
          "height": 874
        },
        "id": "dPHUHOD4ceQ6",
        "outputId": "d5c4e044-92ed-4f41-de65-5b4a289c57f5"
      },
      "outputs": [
        {
          "output_type": "stream",
          "name": "stdout",
          "text": [
            "[For Epoch 1/10]: train-loss = 2.48165 | train-acc = 0.442 | val-loss = 2.10702 | val-acc = 0.542\n",
            "[For Epoch 2/10]: train-loss = 1.83868 | train-acc = 0.600 | val-loss = 1.81107 | val-acc = 0.607\n",
            "[For Epoch 3/10]: train-loss = 1.55958 | train-acc = 0.666 | val-loss = 1.54853 | val-acc = 0.677\n",
            "[For Epoch 4/10]: train-loss = 1.38633 | train-acc = 0.705 | val-loss = 1.37375 | val-acc = 0.709\n",
            "[For Epoch 5/10]: train-loss = 1.26753 | train-acc = 0.733 | val-loss = 1.34684 | val-acc = 0.708\n",
            "[For Epoch 6/10]: train-loss = 1.18002 | train-acc = 0.750 | val-loss = 1.26364 | val-acc = 0.741\n",
            "[For Epoch 7/10]: train-loss = 1.09381 | train-acc = 0.770 | val-loss = 1.22005 | val-acc = 0.740\n",
            "[For Epoch 8/10]: train-loss = 1.04292 | train-acc = 0.782 | val-loss = 1.15893 | val-acc = 0.754\n",
            "[For Epoch 9/10]: train-loss = 0.98300 | train-acc = 0.792 | val-loss = 1.09839 | val-acc = 0.771\n",
            "[For Epoch 10/10]: train-loss = 0.94635 | train-acc = 0.800 | val-loss = 1.08969 | val-acc = 0.773\n"
          ]
        },
        {
          "output_type": "display_data",
          "data": {
            "text/plain": [
              "<Figure size 720x360 with 1 Axes>"
            ],
            "image/png": "[encoded data removed]"
          },
          "metadata": {
            "needs_background": "light"
          }
        },
        {
          "output_type": "display_data",
          "data": {
            "text/plain": [
              "<Figure size 720x360 with 1 Axes>"
            ],
            "image/png": "[encoded data removed]"
          },
          "metadata": {
            "needs_background": "light"
          }
        },
        {
          "output_type": "stream",
          "name": "stdout",
          "text": [
            "time: 6min 8s (started: 2022-09-28 01:48:29 +00:00)\n"
          ]
        }
      ],
      "source": [
        "train_epoch_loss_history, val_epoch_loss_history = train_model(model, train_loader, val_loader, criterion, optimizer)\n"
      ]
    },
    {
      "cell_type": "code",
      "execution_count": null,
      "metadata": {
        "id": "6V65GaZ8cjwL",
        "colab": {
          "base_uri": "https://localhost:8080/"
        },
        "outputId": "569d0af8-7fb6-40b3-f15c-3df8fc876b9b"
      },
      "outputs": [
        {
          "output_type": "execute_result",
          "data": {
            "text/plain": [
              "<All keys matched successfully>"
            ]
          },
          "metadata": {},
          "execution_count": 14
        },
        {
          "output_type": "stream",
          "name": "stdout",
          "text": [
            "time: 228 ms (started: 2022-09-28 01:54:38 +00:00)\n"
          ]
        }
      ],
      "source": [
        "model = GoogleNet()\n",
        "model.load_state_dict(torch.load('/content/sample_data/optimized_model'))"
      ]
    },
    {
      "cell_type": "code",
      "execution_count": null,
      "metadata": {
        "id": "YBnjbYTycoL_",
        "colab": {
          "base_uri": "https://localhost:8080/"
        },
        "outputId": "85caa029-1d99-40ab-9a20-d57524aa6b97"
      },
      "outputs": [
        {
          "output_type": "stream",
          "name": "stdout",
          "text": [
            "Test accuracy: 0.7833\n",
            "time: 2.97 s (started: 2022-09-28 01:54:38 +00:00)\n"
          ]
        }
      ],
      "source": [
        "num_test_samples = 10000\n",
        "correct = 0\n",
        "\n",
        "model.eval().cuda()\n",
        "\n",
        "with  torch.no_grad():\n",
        "    for inputs, labels in test_loader:\n",
        "        inputs, labels = inputs.to(device), labels.to(device)\n",
        "        # Make predictions.\n",
        "        prediction, _, _ = model(inputs)\n",
        "\n",
        "        # Retrieve predictions indexes.\n",
        "        _, predicted_class = torch.max(prediction.data, 1)\n",
        "\n",
        "        # Compute number of correct predictions.\n",
        "        correct += (predicted_class == labels).float().sum().item()\n",
        "\n",
        "test_accuracy = correct / num_test_samples\n",
        "\n",
        "print('Test accuracy: {}'.format(test_accuracy))"
      ]
    },
    {
      "cell_type": "code",
      "source": [],
      "metadata": {
        "colab": {
          "base_uri": "https://localhost:8080/"
        },
        "id": "UUw8iDN0is4S",
        "outputId": "e4c297b7-37aa-464b-ee77-2c8fce4df996"
      },
      "execution_count": null,
      "outputs": [
        {
          "output_type": "stream",
          "name": "stdout",
          "text": [
            "time: 2.98 s (started: 2022-09-28 01:54:38 +00:00)\n"
          ]
        }
      ]
    }
  ],
  "metadata": {
    "accelerator": "GPU",
    "colab": {
      "provenance": []
    },
    "gpuClass": "standard",
    "kernelspec": {
      "display_name": "Python 3",
      "name": "python3"
    },
    "language_info": {
      "name": "python"
    },
    "widgets": {
      "application/vnd.jupyter.widget-state+json": {
        "3644ed4419c84215abf9e747833d0032": {
          "model_module": "@jupyter-widgets/controls",
          "model_name": "HBoxModel",
          "model_module_version": "1.5.0",
          "state": {
            "_dom_classes": [],
            "_model_module": "@jupyter-widgets/controls",
            "_model_module_version": "1.5.0",
            "_model_name": "HBoxModel",
            "_view_count": null,
            "_view_module": "@jupyter-widgets/controls",
            "_view_module_version": "1.5.0",
            "_view_name": "HBoxView",
            "box_style": "",
            "children": [
              "IPY_MODEL_15a45c675fbc481bba3a1863405170cc",
              "IPY_MODEL_69932cac3f6d44aeaafe4419ff50982e",
              "IPY_MODEL_37d09ae37c484545a37d7d3d8d04c593"
            ],
            "layout": "IPY_MODEL_e7335a9a450c486f897c7c2ee126c9ef"
          }
        },
        "15a45c675fbc481bba3a1863405170cc": {
          "model_module": "@jupyter-widgets/controls",
          "model_name": "HTMLModel",
          "model_module_version": "1.5.0",
          "state": {
            "_dom_classes": [],
            "_model_module": "@jupyter-widgets/controls",
            "_model_module_version": "1.5.0",
            "_model_name": "HTMLModel",
            "_view_count": null,
            "_view_module": "@jupyter-widgets/controls",
            "_view_module_version": "1.5.0",
            "_view_name": "HTMLView",
            "description": "",
            "description_tooltip": null,
            "layout": "IPY_MODEL_6588d98a8dfa40cd983700ac29634dda",
            "placeholder": "​",
            "style": "IPY_MODEL_d72853da38184bcdb265ebd536726faf",
            "value": "100%"
          }
        },
        "69932cac3f6d44aeaafe4419ff50982e": {
          "model_module": "@jupyter-widgets/controls",
          "model_name": "FloatProgressModel",
          "model_module_version": "1.5.0",
          "state": {
            "_dom_classes": [],
            "_model_module": "@jupyter-widgets/controls",
            "_model_module_version": "1.5.0",
            "_model_name": "FloatProgressModel",
            "_view_count": null,
            "_view_module": "@jupyter-widgets/controls",
            "_view_module_version": "1.5.0",
            "_view_name": "ProgressView",
            "bar_style": "success",
            "description": "",
            "description_tooltip": null,
            "layout": "IPY_MODEL_6e0b5215ea8d417398ed8b8a2c0c5d7e",
            "max": 170498071,
            "min": 0,
            "orientation": "horizontal",
            "style": "IPY_MODEL_aa8764b1251c47ab81676cfbb53d7619",
            "value": 170498071
          }
        },
        "37d09ae37c484545a37d7d3d8d04c593": {
          "model_module": "@jupyter-widgets/controls",
          "model_name": "HTMLModel",
          "model_module_version": "1.5.0",
          "state": {
            "_dom_classes": [],
            "_model_module": "@jupyter-widgets/controls",
            "_model_module_version": "1.5.0",
            "_model_name": "HTMLModel",
            "_view_count": null,
            "_view_module": "@jupyter-widgets/controls",
            "_view_module_version": "1.5.0",
            "_view_name": "HTMLView",
            "description": "",
            "description_tooltip": null,
            "layout": "IPY_MODEL_ab1b44d20cc145c488351fe0b58e8dbc",
            "placeholder": "​",
            "style": "IPY_MODEL_05d8333e1a334062b5239874d486ce1a",
            "value": " 170498071/170498071 [00:02&lt;00:00, 77381750.10it/s]"
          }
        },
        "e7335a9a450c486f897c7c2ee126c9ef": {
          "model_module": "@jupyter-widgets/base",
          "model_name": "LayoutModel",
          "model_module_version": "1.2.0",
          "state": {
            "_model_module": "@jupyter-widgets/base",
            "_model_module_version": "1.2.0",
            "_model_name": "LayoutModel",
            "_view_count": null,
            "_view_module": "@jupyter-widgets/base",
            "_view_module_version": "1.2.0",
            "_view_name": "LayoutView",
            "align_content": null,
            "align_items": null,
            "align_self": null,
            "border": null,
            "bottom": null,
            "display": null,
            "flex": null,
            "flex_flow": null,
            "grid_area": null,
            "grid_auto_columns": null,
            "grid_auto_flow": null,
            "grid_auto_rows": null,
            "grid_column": null,
            "grid_gap": null,
            "grid_row": null,
            "grid_template_areas": null,
            "grid_template_columns": null,
            "grid_template_rows": null,
            "height": null,
            "justify_content": null,
            "justify_items": null,
            "left": null,
            "margin": null,
            "max_height": null,
            "max_width": null,
            "min_height": null,
            "min_width": null,
            "object_fit": null,
            "object_position": null,
            "order": null,
            "overflow": null,
            "overflow_x": null,
            "overflow_y": null,
            "padding": null,
            "right": null,
            "top": null,
            "visibility": null,
            "width": null
          }
        },
        "6588d98a8dfa40cd983700ac29634dda": {
          "model_module": "@jupyter-widgets/base",
          "model_name": "LayoutModel",
          "model_module_version": "1.2.0",
          "state": {
            "_model_module": "@jupyter-widgets/base",
            "_model_module_version": "1.2.0",
            "_model_name": "LayoutModel",
            "_view_count": null,
            "_view_module": "@jupyter-widgets/base",
            "_view_module_version": "1.2.0",
            "_view_name": "LayoutView",
            "align_content": null,
            "align_items": null,
            "align_self": null,
            "border": null,
            "bottom": null,
            "display": null,
            "flex": null,
            "flex_flow": null,
            "grid_area": null,
            "grid_auto_columns": null,
            "grid_auto_flow": null,
            "grid_auto_rows": null,
            "grid_column": null,
            "grid_gap": null,
            "grid_row": null,
            "grid_template_areas": null,
            "grid_template_columns": null,
            "grid_template_rows": null,
            "height": null,
            "justify_content": null,
            "justify_items": null,
            "left": null,
            "margin": null,
            "max_height": null,
            "max_width": null,
            "min_height": null,
            "min_width": null,
            "object_fit": null,
            "object_position": null,
            "order": null,
            "overflow": null,
            "overflow_x": null,
            "overflow_y": null,
            "padding": null,
            "right": null,
            "top": null,
            "visibility": null,
            "width": null
          }
        },
        "d72853da38184bcdb265ebd536726faf": {
          "model_module": "@jupyter-widgets/controls",
          "model_name": "DescriptionStyleModel",
          "model_module_version": "1.5.0",
          "state": {
            "_model_module": "@jupyter-widgets/controls",
            "_model_module_version": "1.5.0",
            "_model_name": "DescriptionStyleModel",
            "_view_count": null,
            "_view_module": "@jupyter-widgets/base",
            "_view_module_version": "1.2.0",
            "_view_name": "StyleView",
            "description_width": ""
          }
        },
        "6e0b5215ea8d417398ed8b8a2c0c5d7e": {
          "model_module": "@jupyter-widgets/base",
          "model_name": "LayoutModel",
          "model_module_version": "1.2.0",
          "state": {
            "_model_module": "@jupyter-widgets/base",
            "_model_module_version": "1.2.0",
            "_model_name": "LayoutModel",
            "_view_count": null,
            "_view_module": "@jupyter-widgets/base",
            "_view_module_version": "1.2.0",
            "_view_name": "LayoutView",
            "align_content": null,
            "align_items": null,
            "align_self": null,
            "border": null,
            "bottom": null,
            "display": null,
            "flex": null,
            "flex_flow": null,
            "grid_area": null,
            "grid_auto_columns": null,
            "grid_auto_flow": null,
            "grid_auto_rows": null,
            "grid_column": null,
            "grid_gap": null,
            "grid_row": null,
            "grid_template_areas": null,
            "grid_template_columns": null,
            "grid_template_rows": null,
            "height": null,
            "justify_content": null,
            "justify_items": null,
            "left": null,
            "margin": null,
            "max_height": null,
            "max_width": null,
            "min_height": null,
            "min_width": null,
            "object_fit": null,
            "object_position": null,
            "order": null,
            "overflow": null,
            "overflow_x": null,
            "overflow_y": null,
            "padding": null,
            "right": null,
            "top": null,
            "visibility": null,
            "width": null
          }
        },
        "aa8764b1251c47ab81676cfbb53d7619": {
          "model_module": "@jupyter-widgets/controls",
          "model_name": "ProgressStyleModel",
          "model_module_version": "1.5.0",
          "state": {
            "_model_module": "@jupyter-widgets/controls",
            "_model_module_version": "1.5.0",
            "_model_name": "ProgressStyleModel",
            "_view_count": null,
            "_view_module": "@jupyter-widgets/base",
            "_view_module_version": "1.2.0",
            "_view_name": "StyleView",
            "bar_color": null,
            "description_width": ""
          }
        },
        "ab1b44d20cc145c488351fe0b58e8dbc": {
          "model_module": "@jupyter-widgets/base",
          "model_name": "LayoutModel",
          "model_module_version": "1.2.0",
          "state": {
            "_model_module": "@jupyter-widgets/base",
            "_model_module_version": "1.2.0",
            "_model_name": "LayoutModel",
            "_view_count": null,
            "_view_module": "@jupyter-widgets/base",
            "_view_module_version": "1.2.0",
            "_view_name": "LayoutView",
            "align_content": null,
            "align_items": null,
            "align_self": null,
            "border": null,
            "bottom": null,
            "display": null,
            "flex": null,
            "flex_flow": null,
            "grid_area": null,
            "grid_auto_columns": null,
            "grid_auto_flow": null,
            "grid_auto_rows": null,
            "grid_column": null,
            "grid_gap": null,
            "grid_row": null,
            "grid_template_areas": null,
            "grid_template_columns": null,
            "grid_template_rows": null,
            "height": null,
            "justify_content": null,
            "justify_items": null,
            "left": null,
            "margin": null,
            "max_height": null,
            "max_width": null,
            "min_height": null,
            "min_width": null,
            "object_fit": null,
            "object_position": null,
            "order": null,
            "overflow": null,
            "overflow_x": null,
            "overflow_y": null,
            "padding": null,
            "right": null,
            "top": null,
            "visibility": null,
            "width": null
          }
        },
        "05d8333e1a334062b5239874d486ce1a": {
          "model_module": "@jupyter-widgets/controls",
          "model_name": "DescriptionStyleModel",
          "model_module_version": "1.5.0",
          "state": {
            "_model_module": "@jupyter-widgets/controls",
            "_model_module_version": "1.5.0",
            "_model_name": "DescriptionStyleModel",
            "_view_count": null,
            "_view_module": "@jupyter-widgets/base",
            "_view_module_version": "1.2.0",
            "_view_name": "StyleView",
            "description_width": ""
          }
        }
      }
    }
  },
  "nbformat": 4,
  "nbformat_minor": 0
}